{
 "cells": [
  {
   "cell_type": "code",
   "execution_count": 1,
   "metadata": {},
   "outputs": [],
   "source": [
    "import numpy as np\n",
    "import pandas as pd\n",
    "import seaborn as sns\n",
    "from sklearn.linear_model import LinearRegression\n",
    "import matplotlib.pyplot as plt"
   ]
  },
  {
   "cell_type": "code",
   "execution_count": 3,
   "metadata": {},
   "outputs": [
    {
     "name": "stdout",
     "output_type": "stream",
     "text": [
      "<class 'pandas.core.frame.DataFrame'>\n",
      "RangeIndex: 14 entries, 0 to 13\n",
      "Data columns (total 2 columns):\n",
      "Units      14 non-null int64\n",
      "Minutes    14 non-null int64\n",
      "dtypes: int64(2)\n",
      "memory usage: 304.0 bytes\n"
     ]
    }
   ],
   "source": [
    "df = pd.read_csv(\"computers.csv\")\n",
    "df.info()"
   ]
  },
  {
   "cell_type": "code",
   "execution_count": 67,
   "metadata": {},
   "outputs": [],
   "source": [
    "class LinearRegressionUnivariate:\n",
    "    \n",
    "    def __init__(self):\n",
    "        self.m = 0\n",
    "        self.c = 0\n",
    "    \n",
    "    def fit(self, X, Y, learning_rate = 0.01):\n",
    "    \n",
    "        # yhat = mX + c\n",
    "        m = self.m\n",
    "        c = self.c\n",
    "        n = len(X)\n",
    "        for i in range(10000):\n",
    "            yhat = m*X + c\n",
    "            dm = (-2/n)*sum(X*(Y - yhat))  # derivative of \"y\" w.r.t m(Slope)\n",
    "            dc = (-2/n)*sum(Y-yhat)        # derivative of \"y\" w.r.t c(intercept)\n",
    "            m = m - learning_rate * dm \n",
    "            c = c - learning_rate * dc\n",
    "            \n",
    "            if i%1000==0:\n",
    "                print(\"slope(m) = {} \\t intercept(c) == {}\".format(m,c))\n",
    "            \n",
    "        self.m = m\n",
    "        self.c = c\n",
    "        \n",
    "    def predict(self,X):\n",
    "        return np.array([self.m*x + self.c for x in X])\n",
    "\n",
    "    def r_squared_score(self):\n",
    "        y_hat = np.array([self.m*x + self.c for x in X])\n",
    "        ss_r = sum((Y-y_hat)**2)         # sum of square regressor = summation(y-yhat)^2\n",
    "        ss_t = sum((Y-np.mean(Y))**2)    # sum of square total = summation(y-y_mean)^2\n",
    "        r_square = 1-(ss_r/ss_t)\n",
    "        return r_square"
   ]
  },
  {
   "cell_type": "code",
   "execution_count": 68,
   "metadata": {},
   "outputs": [],
   "source": [
    "clf = LinearRegressionUnivariate()"
   ]
  },
  {
   "cell_type": "code",
   "execution_count": 69,
   "metadata": {},
   "outputs": [
    {
     "name": "stdout",
     "output_type": "stream",
     "text": [
      "slope(m) = 14.191428571428572 \t intercept(c) == 1.9442857142857142\n",
      "slope(m) = 15.516020445254272 \t intercept(c) == 4.108544563809838\n",
      "slope(m) = 15.508964382410223 \t intercept(c) == 4.160244043235595\n",
      "slope(m) = 15.508777039560217 \t intercept(c) == 4.161616696517412\n",
      "slope(m) = 15.508772065491215 \t intercept(c) == 4.161653141314401\n",
      "slope(m) = 15.508771933426594 \t intercept(c) == 4.161654108946394\n",
      "slope(m) = 15.508771929920197 \t intercept(c) == 4.161654134637624\n",
      "slope(m) = 15.5087719298271 \t intercept(c) == 4.161654135319738\n",
      "slope(m) = 15.508771929824631 \t intercept(c) == 4.161654135337842\n",
      "slope(m) = 15.50877192982458 \t intercept(c) == 4.161654135338218\n"
     ]
    }
   ],
   "source": [
    "X = np.array(df[\"Units\"])\n",
    "Y = np.array(df[\"Minutes\"])\n",
    "clf.fit(X,Y)"
   ]
  },
  {
   "cell_type": "code",
   "execution_count": 70,
   "metadata": {},
   "outputs": [],
   "source": [
    "X_pred = [0,2,2,3,5,6,7,8,9,11]\n",
    "y_pred = clf.predict(X_pred)"
   ]
  },
  {
   "cell_type": "code",
   "execution_count": 71,
   "metadata": {},
   "outputs": [
    {
     "name": "stdout",
     "output_type": "stream",
     "text": [
      "15.50877192982458 4.161654135338218\n"
     ]
    },
    {
     "data": {
      "image/png": "[encoded data removed]",
      "text/plain": [
       "<matplotlib.figure.Figure at 0x22b3e314828>"
      ]
     },
     "metadata": {},
     "output_type": "display_data"
    }
   ],
   "source": [
    "plt.scatter(X,Y)\n",
    "plt.plot([min(X_pred), max(X_pred)], [min(y_pred), max(y_pred)], color = \"green\")\n",
    "print(clf.m, clf.c)"
   ]
  },
  {
   "cell_type": "code",
   "execution_count": 74,
   "metadata": {},
   "outputs": [
    {
     "name": "stdout",
     "output_type": "stream",
     "text": [
      "0.9874371980620736\n"
     ]
    }
   ],
   "source": [
    "print(clf.r_squared_score())"
   ]
  }
 ],
 "metadata": {
  "kernelspec": {
   "display_name": "Python 3",
   "language": "python",
   "name": "python3"
  },
  "language_info": {
   "codemirror_mode": {
    "name": "ipython",
    "version": 3
   },
   "file_extension": ".py",
   "mimetype": "text/x-python",
   "name": "python",
   "nbconvert_exporter": "python",
   "pygments_lexer": "ipython3",
   "version": "3.6.4"
  }
 },
 "nbformat": 4,
 "nbformat_minor": 2
}
